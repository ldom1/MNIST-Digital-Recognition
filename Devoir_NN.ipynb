{
 "cells": [
  {
   "cell_type": "markdown",
   "metadata": {},
   "source": [
    "# Neural Network - Digital Recognition"
   ]
  },
  {
   "cell_type": "markdown",
   "metadata": {},
   "source": [
    "The subject today is digit recognition using neural networks. More precisely, the task is to train a neural network so that it finds the digit in a given image of handwritten digit.\n",
    "The first step is to split the MNIST dataset into a training set, a validation set, and a test set. During the training phase, the neural network is trained on the training set. Still during the training phase, the recognition score of the neural network is checked on a subset of the training set and on the validation set in order to detect potential overfitting. During the test set, the true classification score of the fully-connected neural network is computed on the test set."
   ]
  },
  {
   "cell_type": "code",
   "execution_count": 1,
   "metadata": {},
   "outputs": [],
   "source": [
    "# Needed packages\n",
    "import os\n",
    "import numpy as np\n",
    "import random as rd\n",
    "import tools.tools as tls"
   ]
  },
  {
   "cell_type": "markdown",
   "metadata": {},
   "source": [
    "## I - Process the data and visualisation"
   ]
  },
  {
   "cell_type": "markdown",
   "metadata": {},
   "source": [
    "### Import data"
   ]
  },
  {
   "cell_type": "code",
   "execution_count": 2,
   "metadata": {},
   "outputs": [],
   "source": [
    "path = os.getcwd() + '/mnist/data/'\n",
    "\n",
    "train_img = np.load(path+'training_images.npy')\n",
    "train_labels = np.load(path+'training_labels.npy')\n",
    "\n",
    "valid_img = np.load(path+'validation_images.npy')\n",
    "valid_labels = np.load(path+'validation_labels.npy')\n",
    "\n",
    "test_img = np.load(path+'test_images.npy')\n",
    "test_labels = np.load(path+'test_labels.npy')"
   ]
  },
  {
   "cell_type": "markdown",
   "metadata": {},
   "source": [
    "### Process the data"
   ]
  },
  {
   "cell_type": "code",
   "execution_count": 3,
   "metadata": {},
   "outputs": [],
   "source": [
    "# img\n",
    "train_img_new = train_img.reshape(train_img.shape[0],\n",
    "                                  train_img.shape[1]**2).astype('uint64')\n",
    "valid_img_new = valid_img.reshape(valid_img.shape[0],\n",
    "                                  valid_img.shape[1]**2).astype('uint64')\n",
    "test_img_new = test_img.reshape(test_img.shape[0],\n",
    "                                test_img.shape[1]**2).astype('uint64')\n",
    "\n",
    "# label\n",
    "train_lab_new = np.array([np.argmax(train_labels[y])\n",
    "                          for y in range(len(train_labels))])\n",
    "valid_lab_new = np.array([np.argmax(valid_labels[y])\n",
    "                          for y in range(len(valid_labels))])\n",
    "test_lab_new = np.array([np.argmax(valid_labels[y])\n",
    "                         for y in range(len(valid_labels))])"
   ]
  },
  {
   "cell_type": "markdown",
   "metadata": {},
   "source": [
    "### Random permutation of the train set (for the training phase of the neural network)"
   ]
  },
  {
   "cell_type": "code",
   "execution_count": 5,
   "metadata": {},
   "outputs": [],
   "source": [
    "permut_index = np.random.permutation(train_img_new.shape[0])\n",
    "\n",
    "train_img = train_img[permut_index, :, :]\n",
    "train_img_new = train_img_new[permut_index, :]\n",
    "train_labels = train_labels[permut_index, :]\n",
    "train_lab_new = train_lab_new[permut_index]"
   ]
  },
  {
   "cell_type": "markdown",
   "metadata": {},
   "source": [
    "### Visualisation (exported in the folder 'img_observation')"
   ]
  },
  {
   "cell_type": "code",
   "execution_count": 6,
   "metadata": {},
   "outputs": [
    {
     "name": "stdout",
     "output_type": "stream",
     "text": [
      "Visualisation exported\n"
     ]
    }
   ],
   "source": [
    "# Visualisation\n",
    "def visualize(path, name, X, y, nb_img=36):\n",
    "    \"\"\"Allows to vizualise 36 img and the labels\"\"\"\n",
    "    vector_viz = [rd.randint(0, len(X)-1) for y in np.arange(nb_img)]\n",
    "    # Img\n",
    "    nb_vertically = int(np.sqrt(nb_img))\n",
    "    name_img_out = path+'visualize_img' + '_' + str(name) + '.png'\n",
    "    tls.visualize_grayscale_images(X[vector_viz, :, :, :],\n",
    "                                   nb_vertically, name_img_out)\n",
    "\n",
    "    # Labels\n",
    "    name_lab_out = path+'visualize_labels' + '_' + str(name)\n",
    "    labels = train_lab_new[vector_viz]\n",
    "    labels = labels.reshape((nb_vertically, nb_vertically))\n",
    "\n",
    "    file = open(name_lab_out, \"w\")\n",
    "    labels_str = ''\n",
    "    for line in labels:\n",
    "        for elt in line:\n",
    "            labels_str = labels_str + str(elt) + ' '\n",
    "        labels_str = labels_str + '\\n'\n",
    "    file.write(labels_str)\n",
    "    file.close()\n",
    "    print('Visualisation exported')\n",
    "\n",
    "\n",
    "path = os.getcwd() + '/img_observation/'\n",
    "X = train_img\n",
    "y = train_lab_new\n",
    "visualize(path, 'obs', X, y, nb_img=36)"
   ]
  },
  {
   "cell_type": "code",
   "execution_count": null,
   "metadata": {},
   "outputs": [],
   "source": []
  }
 ],
 "metadata": {
  "kernelspec": {
   "display_name": "Python 3",
   "language": "python",
   "name": "python3"
  },
  "language_info": {
   "codemirror_mode": {
    "name": "ipython",
    "version": 3
   },
   "file_extension": ".py",
   "mimetype": "text/x-python",
   "name": "python",
   "nbconvert_exporter": "python",
   "pygments_lexer": "ipython3",
   "version": "3.6.6"
  }
 },
 "nbformat": 4,
 "nbformat_minor": 2
}
