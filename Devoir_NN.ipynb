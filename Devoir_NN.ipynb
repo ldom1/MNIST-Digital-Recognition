{
 "cells": [
  {
   "cell_type": "markdown",
   "metadata": {},
   "source": [
    "# Neural Network - Digital Recognition"
   ]
  },
  {
   "cell_type": "markdown",
   "metadata": {},
   "source": [
    "The subject today is digit recognition using neural networks. More precisely, the task is to train a neural network so that it finds the digit in a given image of handwritten digit.\n",
    "The first step is to split the MNIST dataset into a training set, a validation set, and a test set. During the training phase, the neural network is trained on the training set. Still during the training phase, the recognition score of the neural network is checked on a subset of the training set and on the validation set in order to detect potential overfitting. During the test set, the true classification score of the fully-connected neural network is computed on the test set."
   ]
  },
  {
   "cell_type": "code",
   "execution_count": 1,
   "metadata": {},
   "outputs": [
    {
     "name": "stderr",
     "output_type": "stream",
     "text": [
      "/Users/louisgiron/Desktop/ENSAE - Mastère spé/Reseaux de neurones/devoir_cours/tools/tools.py:6: UserWarning: matplotlib.pyplot as already been imported, this call will have no effect.\n",
      "  matplotlib.use('Qt5Agg')\n"
     ]
    }
   ],
   "source": [
    "# Needed packages\n",
    "import os\n",
    "import numpy as np\n",
    "import matplotlib.pyplot as plt\n",
    "import random as rd\n",
    "import tensorflow as tf\n",
    "import tools.tools as tls\n",
    "from tqdm import tqdm"
   ]
  },
  {
   "cell_type": "markdown",
   "metadata": {},
   "source": [
    "## I - Process the data and visualisation"
   ]
  },
  {
   "cell_type": "markdown",
   "metadata": {},
   "source": [
    "### Import data"
   ]
  },
  {
   "cell_type": "code",
   "execution_count": 2,
   "metadata": {},
   "outputs": [],
   "source": [
    "path = os.getcwd() + '/mnist/data/'\n",
    "\n",
    "train_img = np.load(path+'training_images.npy')\n",
    "train_labels = np.load(path+'training_labels.npy')\n",
    "\n",
    "valid_img = np.load(path+'validation_images.npy')\n",
    "valid_labels = np.load(path+'validation_labels.npy')\n",
    "\n",
    "test_img = np.load(path+'test_images.npy')\n",
    "test_labels = np.load(path+'test_labels.npy')"
   ]
  },
  {
   "cell_type": "markdown",
   "metadata": {},
   "source": [
    "### Process the data"
   ]
  },
  {
   "cell_type": "code",
   "execution_count": 3,
   "metadata": {},
   "outputs": [],
   "source": [
    "# img\n",
    "train_img_new = train_img.reshape(train_img.shape[0],\n",
    "                                  train_img.shape[1]**2).astype('uint64')\n",
    "valid_img_new = valid_img.reshape(valid_img.shape[0],\n",
    "                                  valid_img.shape[1]**2).astype('uint64')\n",
    "test_img_new = test_img.reshape(test_img.shape[0],\n",
    "                                test_img.shape[1]**2).astype('uint64')\n",
    "\n",
    "# label\n",
    "train_lab_new = np.array([np.argmax(train_labels[y])\n",
    "                          for y in range(len(train_labels))])\n",
    "valid_lab_new = np.array([np.argmax(valid_labels[y])\n",
    "                          for y in range(len(valid_labels))])\n",
    "test_lab_new = np.array([np.argmax(valid_labels[y])\n",
    "                         for y in range(len(valid_labels))])"
   ]
  },
  {
   "cell_type": "markdown",
   "metadata": {},
   "source": [
    "### Random permutation of the train set (for the training phase of the neural network)"
   ]
  },
  {
   "cell_type": "code",
   "execution_count": 4,
   "metadata": {},
   "outputs": [],
   "source": [
    "permut_index = np.random.permutation(train_img_new.shape[0])\n",
    "\n",
    "train_img = train_img[permut_index, :, :]\n",
    "train_img_new = train_img_new[permut_index, :]\n",
    "train_labels = train_labels[permut_index, :]\n",
    "train_lab_new = train_lab_new[permut_index]"
   ]
  },
  {
   "cell_type": "markdown",
   "metadata": {},
   "source": [
    "### Visualisation (exported in the folder 'img_observation')"
   ]
  },
  {
   "cell_type": "code",
   "execution_count": 5,
   "metadata": {},
   "outputs": [
    {
     "name": "stdout",
     "output_type": "stream",
     "text": [
      "Visualisation exported\n"
     ]
    }
   ],
   "source": [
    "# Visualisation\n",
    "def visualize(path, name, X, y, nb_img=36):\n",
    "    \"\"\"Allows to vizualise 36 img and the labels\"\"\"\n",
    "    vector_viz = [rd.randint(0, len(X)-1) for y in np.arange(nb_img)]\n",
    "    # Img\n",
    "    nb_vertically = int(np.sqrt(nb_img))\n",
    "    name_img_out = path+'visualize_img' + '_' + str(name) + '.png'\n",
    "    tls.visualize_grayscale_images(X[vector_viz, :, :, :],\n",
    "                                   nb_vertically, name_img_out)\n",
    "\n",
    "    # Labels\n",
    "    name_lab_out = path+'visualize_labels' + '_' + str(name)\n",
    "    labels = train_lab_new[vector_viz]\n",
    "    labels = labels.reshape((nb_vertically, nb_vertically))\n",
    "\n",
    "    file = open(name_lab_out, \"w\")\n",
    "    labels_str = ''\n",
    "    for line in labels:\n",
    "        for elt in line:\n",
    "            labels_str = labels_str + str(elt) + ' '\n",
    "        labels_str = labels_str + '\\n'\n",
    "    file.write(labels_str)\n",
    "    file.close()\n",
    "    print('Visualisation exported')\n",
    "\n",
    "\n",
    "path = os.getcwd() + '/img_observation/'\n",
    "X = train_img\n",
    "y = train_lab_new\n",
    "visualize(path, 'obs', X, y, nb_img=36)"
   ]
  },
  {
   "cell_type": "markdown",
   "metadata": {},
   "source": [
    "## II - Basic Neural Network"
   ]
  },
  {
   "cell_type": "markdown",
   "metadata": {},
   "source": [
    "import the model within the file 'NeuralNetwork.py'"
   ]
  },
  {
   "cell_type": "markdown",
   "metadata": {},
   "source": [
    "### Training the neural network"
   ]
  },
  {
   "cell_type": "code",
   "execution_count": 6,
   "metadata": {},
   "outputs": [],
   "source": [
    "# Import the model\n",
    "from NeuralNetwork import neural_net_model"
   ]
  },
  {
   "cell_type": "code",
   "execution_count": 7,
   "metadata": {},
   "outputs": [],
   "source": [
    "# Input data\n",
    "nb_images = train_img_new.shape[0]\n",
    "nb_input = train_img_new.shape[1]\n",
    "batch_size = 1000\n",
    "nb_hidden = 16\n",
    "nb_classes = 10\n",
    "learning_rate = 0.5\n",
    "nb_epoch = 20"
   ]
  },
  {
   "cell_type": "markdown",
   "metadata": {},
   "source": [
    "The following function is used in order to define batches during the training (it is the equivalent of the next batch function of tf)"
   ]
  },
  {
   "cell_type": "code",
   "execution_count": 8,
   "metadata": {},
   "outputs": [],
   "source": [
    "def get_batch_idx(i, batch_size, nb_images):\n",
    "    # Input\n",
    "    max_batch_size = int(nb_images/batch_size)\n",
    "    j = i % max_batch_size\n",
    "    return np.arange(j*batch_size, (j+1)*batch_size)"
   ]
  },
  {
   "cell_type": "code",
   "execution_count": 9,
   "metadata": {},
   "outputs": [],
   "source": [
    "# Initialisation\n",
    "X = tf.placeholder(tf.float32, [None, nb_input])\n",
    "Y = tf.placeholder(tf.float32, [None, nb_classes])\n",
    "\n",
    "p = neural_net_model(X, nb_input, batch_size, nb_hidden, nb_classes,\n",
    "                     learning_rate)\n",
    "\n",
    "cross_entropy = tf.reduce_mean(-tf.reduce_sum(Y * tf.log(p),\n",
    "                                              reduction_indices=[1]))\n",
    "train_step = tf.train.GradientDescentOptimizer(learning_rate).minimize(cross_entropy)\n",
    "\n",
    "correct_pred = tf.equal(tf.argmax(p, 1), tf.argmax(Y, 1))\n",
    "accuracy = tf.reduce_mean(tf.cast(correct_pred, tf.float32))\n",
    "\n",
    "acc_train = []\n",
    "loss_train = []"
   ]
  },
  {
   "cell_type": "code",
   "execution_count": 10,
   "metadata": {},
   "outputs": [
    {
     "name": "stderr",
     "output_type": "stream",
     "text": [
      "  5%|▌         | 1/20 [00:03<01:02,  3.29s/it]"
     ]
    },
    {
     "name": "stdout",
     "output_type": "stream",
     "text": [
      "\n",
      "Epoch 0 Loss : 0.82985693 Accuracy : 0.747\n"
     ]
    },
    {
     "name": "stderr",
     "output_type": "stream",
     "text": [
      "\r",
      " 10%|█         | 2/20 [00:06<01:00,  3.35s/it]"
     ]
    },
    {
     "name": "stdout",
     "output_type": "stream",
     "text": [
      "\n",
      "Epoch 1 Loss : 0.6397263 Accuracy : 0.809\n"
     ]
    },
    {
     "name": "stderr",
     "output_type": "stream",
     "text": [
      "\r",
      " 15%|█▌        | 3/20 [00:10<00:57,  3.40s/it]"
     ]
    },
    {
     "name": "stdout",
     "output_type": "stream",
     "text": [
      "\n",
      "Epoch 2 Loss : 0.5920287 Accuracy : 0.819\n"
     ]
    },
    {
     "name": "stderr",
     "output_type": "stream",
     "text": [
      "\r",
      " 20%|██        | 4/20 [00:13<00:53,  3.37s/it]"
     ]
    },
    {
     "name": "stdout",
     "output_type": "stream",
     "text": [
      "\n",
      "Epoch 3 Loss : 0.55350524 Accuracy : 0.835\n"
     ]
    },
    {
     "name": "stderr",
     "output_type": "stream",
     "text": [
      "\r",
      " 25%|██▌       | 5/20 [00:17<00:50,  3.38s/it]"
     ]
    },
    {
     "name": "stdout",
     "output_type": "stream",
     "text": [
      "\n",
      "Epoch 4 Loss : 0.5153804 Accuracy : 0.852\n"
     ]
    },
    {
     "name": "stderr",
     "output_type": "stream",
     "text": [
      "\r",
      " 30%|███       | 6/20 [00:20<00:47,  3.42s/it]"
     ]
    },
    {
     "name": "stdout",
     "output_type": "stream",
     "text": [
      "\n",
      "Epoch 5 Loss : 0.48950198 Accuracy : 0.864\n"
     ]
    },
    {
     "name": "stderr",
     "output_type": "stream",
     "text": [
      "\r",
      " 35%|███▌      | 7/20 [00:24<00:44,  3.45s/it]"
     ]
    },
    {
     "name": "stdout",
     "output_type": "stream",
     "text": [
      "\n",
      "Epoch 6 Loss : 0.46167284 Accuracy : 0.865\n"
     ]
    },
    {
     "name": "stderr",
     "output_type": "stream",
     "text": [
      "\r",
      " 40%|████      | 8/20 [00:28<00:43,  3.64s/it]"
     ]
    },
    {
     "name": "stdout",
     "output_type": "stream",
     "text": [
      "\n",
      "Epoch 7 Loss : 0.45414615 Accuracy : 0.867\n"
     ]
    },
    {
     "name": "stderr",
     "output_type": "stream",
     "text": [
      "\r",
      " 45%|████▌     | 9/20 [00:31<00:38,  3.51s/it]"
     ]
    },
    {
     "name": "stdout",
     "output_type": "stream",
     "text": [
      "\n",
      "Epoch 8 Loss : 0.46253625 Accuracy : 0.863\n"
     ]
    },
    {
     "name": "stderr",
     "output_type": "stream",
     "text": [
      "\r",
      " 50%|█████     | 10/20 [00:34<00:34,  3.42s/it]"
     ]
    },
    {
     "name": "stdout",
     "output_type": "stream",
     "text": [
      "\n",
      "Epoch 9 Loss : 0.45565528 Accuracy : 0.867\n"
     ]
    },
    {
     "name": "stderr",
     "output_type": "stream",
     "text": [
      "\r",
      " 55%|█████▌    | 11/20 [00:37<00:30,  3.35s/it]"
     ]
    },
    {
     "name": "stdout",
     "output_type": "stream",
     "text": [
      "\n",
      "Epoch 10 Loss : 0.42961848 Accuracy : 0.88\n"
     ]
    },
    {
     "name": "stderr",
     "output_type": "stream",
     "text": [
      "\r",
      " 60%|██████    | 12/20 [00:40<00:26,  3.30s/it]"
     ]
    },
    {
     "name": "stdout",
     "output_type": "stream",
     "text": [
      "\n",
      "Epoch 11 Loss : 0.40603435 Accuracy : 0.872\n"
     ]
    },
    {
     "name": "stderr",
     "output_type": "stream",
     "text": [
      "\r",
      " 65%|██████▌   | 13/20 [00:44<00:22,  3.28s/it]"
     ]
    },
    {
     "name": "stdout",
     "output_type": "stream",
     "text": [
      "\n",
      "Epoch 12 Loss : 0.41965282 Accuracy : 0.886\n"
     ]
    },
    {
     "name": "stderr",
     "output_type": "stream",
     "text": [
      "\r",
      " 70%|███████   | 14/20 [00:47<00:19,  3.26s/it]"
     ]
    },
    {
     "name": "stdout",
     "output_type": "stream",
     "text": [
      "\n",
      "Epoch 13 Loss : 0.4253094 Accuracy : 0.878\n"
     ]
    },
    {
     "name": "stderr",
     "output_type": "stream",
     "text": [
      "\r",
      " 75%|███████▌  | 15/20 [00:50<00:16,  3.25s/it]"
     ]
    },
    {
     "name": "stdout",
     "output_type": "stream",
     "text": [
      "\n",
      "Epoch 14 Loss : 0.40492013 Accuracy : 0.877\n"
     ]
    },
    {
     "name": "stderr",
     "output_type": "stream",
     "text": [
      "\r",
      " 80%|████████  | 16/20 [00:53<00:12,  3.23s/it]"
     ]
    },
    {
     "name": "stdout",
     "output_type": "stream",
     "text": [
      "\n",
      "Epoch 15 Loss : 0.37572846 Accuracy : 0.885\n"
     ]
    },
    {
     "name": "stderr",
     "output_type": "stream",
     "text": [
      "\r",
      " 85%|████████▌ | 17/20 [00:56<00:09,  3.23s/it]"
     ]
    },
    {
     "name": "stdout",
     "output_type": "stream",
     "text": [
      "\n",
      "Epoch 16 Loss : 0.42747155 Accuracy : 0.883\n"
     ]
    },
    {
     "name": "stderr",
     "output_type": "stream",
     "text": [
      "\r",
      " 90%|█████████ | 18/20 [01:00<00:06,  3.39s/it]"
     ]
    },
    {
     "name": "stdout",
     "output_type": "stream",
     "text": [
      "\n",
      "Epoch 17 Loss : 0.3737747 Accuracy : 0.894\n"
     ]
    },
    {
     "name": "stderr",
     "output_type": "stream",
     "text": [
      "\r",
      " 95%|█████████▌| 19/20 [01:04<00:03,  3.46s/it]"
     ]
    },
    {
     "name": "stdout",
     "output_type": "stream",
     "text": [
      "\n",
      "Epoch 18 Loss : 0.38044518 Accuracy : 0.898\n"
     ]
    },
    {
     "name": "stderr",
     "output_type": "stream",
     "text": [
      "\r",
      "100%|██████████| 20/20 [01:07<00:00,  3.43s/it]"
     ]
    },
    {
     "name": "stdout",
     "output_type": "stream",
     "text": [
      "\n",
      "Epoch 19 Loss : 0.3681813 Accuracy : 0.891\n",
      "\n",
      "Accuracy on test set: 0.8954\n",
      "\n",
      "Errors (%): 0.1046 %\n"
     ]
    },
    {
     "name": "stderr",
     "output_type": "stream",
     "text": [
      "\n"
     ]
    }
   ],
   "source": [
    "# Training\n",
    "with tf.Session() as sess:\n",
    "    saver = tf.train.Saver()\n",
    "    sess.run(tf.global_variables_initializer())\n",
    "\n",
    "    try:\n",
    "        saver.restore(sess, 'mnist_predictions.ckpt')\n",
    "    except Exception:\n",
    "        pass\n",
    "\n",
    "    # train the model mini batch with 100 elements, for 1K times\n",
    "    for epoch in tqdm(range(nb_epoch)):\n",
    "\n",
    "        for i in range(batch_size):\n",
    "            batch_index = get_batch_idx(i, batch_size, nb_images)\n",
    "            batch_x, batch_y = (train_img_new[batch_index, :],\n",
    "                                train_labels[batch_index])\n",
    "            sess.run([train_step], feed_dict={X: batch_x, Y: batch_y})\n",
    "\n",
    "        # Accuracy and cross entropy - Training phase\n",
    "        loss, acc = sess.run([cross_entropy, accuracy],\n",
    "                             feed_dict={X: valid_img_new, Y: valid_labels})\n",
    "        loss_train.append(loss)\n",
    "        acc_train.append(acc)\n",
    "        print(\"\\nEpoch\", str(epoch), \"Loss :\", str(loss),\n",
    "              \"Accuracy :\", str(acc))\n",
    "\n",
    "    # Test\n",
    "    # evaluate the accuracy of the model\n",
    "    test_accuracy = sess.run(accuracy, feed_dict={X: test_img_new,\n",
    "                                                  Y: test_labels})\n",
    "    print(\"\\nAccuracy on test set:\", test_accuracy)\n",
    "\n",
    "    # pred\n",
    "    pred = sess.run(p, feed_dict={X: test_img_new, Y: test_labels})\n",
    "    pred = np.array([np.argmax(pred[y]) for y in range(len(pred))])\n",
    "    labels = np.array([np.argmax(test_labels[y])\n",
    "                       for y in range(len(test_labels))])\n",
    "\n",
    "    print(\"\\nErrors (%):\", np.sum(labels != pred)/len(pred), '%')\n",
    "\n",
    "    # Save the model\n",
    "    '''if input('Save model ? [Y/N]') == 'Y':\n",
    "        import os\n",
    "        saver.save(sess, os.getcwd() +\n",
    "                   '/nn_saved_sessions/mnist_predictions.ckpt')\n",
    "        print('Model Saved')'''\n",
    "\n",
    "    # Close the session\n",
    "    sess.close()"
   ]
  },
  {
   "cell_type": "markdown",
   "metadata": {},
   "source": [
    "### Visualisation"
   ]
  },
  {
   "cell_type": "markdown",
   "metadata": {},
   "source": [
    "#### Accuracy"
   ]
  },
  {
   "cell_type": "code",
   "execution_count": 11,
   "metadata": {},
   "outputs": [
    {
     "data": {
      "image/png": "[encoded data removed]",
      "text/plain": [
       "<Figure size 720x432 with 1 Axes>"
      ]
     },
     "metadata": {
      "needs_background": "light"
     },
     "output_type": "display_data"
    }
   ],
   "source": [
    "# Visualisation of the accuracy\n",
    "plt.figure(figsize=(10, 6))\n",
    "plt.plot(np.arange(nb_epoch), acc_train, label='accuracy', color='blue')\n",
    "plt.title('Training phase')\n",
    "plt.ylabel('accuracy - training phase')\n",
    "plt.xlabel('epochs')\n",
    "plt.legend(loc='best')\n",
    "plt.show()"
   ]
  },
  {
   "cell_type": "markdown",
   "metadata": {},
   "source": [
    "#### Cross entrepoy"
   ]
  },
  {
   "cell_type": "code",
   "execution_count": 12,
   "metadata": {},
   "outputs": [
    {
     "data": {
      "image/png": "[encoded data removed]",
      "text/plain": [
       "<Figure size 720x432 with 1 Axes>"
      ]
     },
     "metadata": {
      "needs_background": "light"
     },
     "output_type": "display_data"
    }
   ],
   "source": [
    "# Visualisation of the loss\n",
    "plt.figure(figsize=(10, 6))\n",
    "plt.plot(np.arange(nb_epoch), loss_train, label='loss', color='red')\n",
    "plt.title('Training phase')\n",
    "plt.ylabel('loss - training phase')\n",
    "plt.xlabel('epochs')\n",
    "plt.legend(loc='best')\n",
    "plt.show()"
   ]
  },
  {
   "cell_type": "markdown",
   "metadata": {},
   "source": [
    "### Observations"
   ]
  },
  {
   "cell_type": "code",
   "execution_count": null,
   "metadata": {},
   "outputs": [],
   "source": []
  },
  {
   "cell_type": "markdown",
   "metadata": {},
   "source": [
    "## III - Evolved Neural Network"
   ]
  },
  {
   "cell_type": "code",
   "execution_count": 13,
   "metadata": {},
   "outputs": [],
   "source": [
    "from NeuralNetwork import neural_net_model_evol"
   ]
  },
  {
   "cell_type": "code",
   "execution_count": 14,
   "metadata": {},
   "outputs": [],
   "source": [
    "# Input data\n",
    "nb_images = train_img_new.shape[0]\n",
    "nb_input = train_img_new.shape[1]\n",
    "batch_size = 1000\n",
    "nb_hidden1 = 64\n",
    "nb_hidden2 = 64\n",
    "nb_classes = 10\n",
    "nb_epoch = 20\n",
    "\n",
    "# Drop out level\n",
    "prob_1 = 0.7\n",
    "prob_2 = 0.7"
   ]
  },
  {
   "cell_type": "code",
   "execution_count": 15,
   "metadata": {},
   "outputs": [],
   "source": [
    "# Initialisation\n",
    "X = tf.placeholder(tf.float32, [None, nb_input])\n",
    "Y = tf.placeholder(tf.float32, [None, nb_classes])\n",
    "keep_prob_1 = tf.placeholder(tf.float32)\n",
    "keep_prob_2 = tf.placeholder(tf.float32)\n",
    "\n",
    "p = neural_net_model_evol(X, nb_input, nb_hidden1, nb_hidden2, nb_classes,\n",
    "                          keep_prob_1, keep_prob_2)\n",
    "\n",
    "cross_entropy = tf.reduce_mean(-tf.reduce_sum(Y * tf.log(p),\n",
    "                                              reduction_indices=[1]))\n",
    "\n",
    "correct_pred = tf.equal(tf.argmax(p, 1), tf.argmax(Y, 1))\n",
    "accuracy = tf.reduce_mean(tf.cast(correct_pred, tf.float32))\n",
    "\n",
    "acc_train = []\n",
    "loss_train = []\n",
    "learn_rate = []"
   ]
  },
  {
   "cell_type": "code",
   "execution_count": 16,
   "metadata": {},
   "outputs": [],
   "source": [
    "# Piecewise constant\n",
    "min_lr = 0.1\n",
    "max_lr = 0.5\n",
    "nb_values = nb_epoch\n",
    "\n",
    "global_step = tf.Variable(0, trainable=False)\n",
    "boundaries = list(np.linspace(batch_size,\n",
    "                              batch_size*nb_epoch, nb_values,\n",
    "                              dtype=np.int32)[:-1])\n",
    "values = list(np.round(np.linspace(max_lr, min_lr, nb_values), 2))\n",
    "learning_rate_pc = tf.train.piecewise_constant(global_step, boundaries, values)\n",
    "\n",
    "j = 0\n",
    "# Passing global_step to minimize() will increment it at each step.\n",
    "learning_step_pc = tf.train.GradientDescentOptimizer(learning_rate_pc).minimize(cross_entropy,\n",
    "                                                                 global_step=global_step)"
   ]
  },
  {
   "cell_type": "code",
   "execution_count": 17,
   "metadata": {},
   "outputs": [
    {
     "name": "stderr",
     "output_type": "stream",
     "text": [
      "  5%|▌         | 1/20 [00:07<02:24,  7.61s/it]"
     ]
    },
    {
     "name": "stdout",
     "output_type": "stream",
     "text": [
      "\n",
      "Epoch 0 Loss : 0.82889444 Accuracy : 0.749 Learning rate: 0.5\n"
     ]
    },
    {
     "name": "stderr",
     "output_type": "stream",
     "text": [
      "\r",
      " 10%|█         | 2/20 [00:15<02:19,  7.74s/it]"
     ]
    },
    {
     "name": "stdout",
     "output_type": "stream",
     "text": [
      "\n",
      "Epoch 1 Loss : 0.65875673 Accuracy : 0.799 Learning rate: 0.48\n"
     ]
    },
    {
     "name": "stderr",
     "output_type": "stream",
     "text": [
      "\r",
      " 15%|█▌        | 3/20 [00:23<02:10,  7.67s/it]"
     ]
    },
    {
     "name": "stdout",
     "output_type": "stream",
     "text": [
      "\n",
      "Epoch 2 Loss : 0.53785557 Accuracy : 0.842 Learning rate: 0.46\n"
     ]
    },
    {
     "name": "stderr",
     "output_type": "stream",
     "text": [
      "\r",
      " 20%|██        | 4/20 [00:30<02:02,  7.64s/it]"
     ]
    },
    {
     "name": "stdout",
     "output_type": "stream",
     "text": [
      "\n",
      "Epoch 3 Loss : 0.47066256 Accuracy : 0.865 Learning rate: 0.44\n"
     ]
    },
    {
     "name": "stderr",
     "output_type": "stream",
     "text": [
      "\r",
      " 25%|██▌       | 5/20 [00:37<01:50,  7.40s/it]"
     ]
    },
    {
     "name": "stdout",
     "output_type": "stream",
     "text": [
      "\n",
      "Epoch 4 Loss : 0.44642773 Accuracy : 0.869 Learning rate: 0.42\n"
     ]
    },
    {
     "name": "stderr",
     "output_type": "stream",
     "text": [
      "\r",
      " 30%|███       | 6/20 [00:44<01:41,  7.26s/it]"
     ]
    },
    {
     "name": "stdout",
     "output_type": "stream",
     "text": [
      "\n",
      "Epoch 5 Loss : 0.4259043 Accuracy : 0.877 Learning rate: 0.39\n"
     ]
    },
    {
     "name": "stderr",
     "output_type": "stream",
     "text": [
      "\r",
      " 35%|███▌      | 7/20 [00:51<01:32,  7.14s/it]"
     ]
    },
    {
     "name": "stdout",
     "output_type": "stream",
     "text": [
      "\n",
      "Epoch 6 Loss : 0.38128883 Accuracy : 0.887 Learning rate: 0.37\n"
     ]
    },
    {
     "name": "stderr",
     "output_type": "stream",
     "text": [
      "\r",
      " 40%|████      | 8/20 [00:58<01:24,  7.04s/it]"
     ]
    },
    {
     "name": "stdout",
     "output_type": "stream",
     "text": [
      "\n",
      "Epoch 7 Loss : 0.37733185 Accuracy : 0.886 Learning rate: 0.35\n"
     ]
    },
    {
     "name": "stderr",
     "output_type": "stream",
     "text": [
      "\r",
      " 45%|████▌     | 9/20 [01:05<01:17,  7.02s/it]"
     ]
    },
    {
     "name": "stdout",
     "output_type": "stream",
     "text": [
      "\n",
      "Epoch 8 Loss : 0.3839815 Accuracy : 0.888 Learning rate: 0.33\n"
     ]
    },
    {
     "name": "stderr",
     "output_type": "stream",
     "text": [
      "\r",
      " 50%|█████     | 10/20 [01:12<01:11,  7.18s/it]"
     ]
    },
    {
     "name": "stdout",
     "output_type": "stream",
     "text": [
      "\n",
      "Epoch 9 Loss : 0.35171404 Accuracy : 0.901 Learning rate: 0.31\n"
     ]
    },
    {
     "name": "stderr",
     "output_type": "stream",
     "text": [
      "\r",
      " 55%|█████▌    | 11/20 [01:19<01:03,  7.03s/it]"
     ]
    },
    {
     "name": "stdout",
     "output_type": "stream",
     "text": [
      "\n",
      "Epoch 10 Loss : 0.34145057 Accuracy : 0.91 Learning rate: 0.29\n"
     ]
    },
    {
     "name": "stderr",
     "output_type": "stream",
     "text": [
      "\r",
      " 60%|██████    | 12/20 [01:26<00:57,  7.14s/it]"
     ]
    },
    {
     "name": "stdout",
     "output_type": "stream",
     "text": [
      "\n",
      "Epoch 11 Loss : 0.34814873 Accuracy : 0.903 Learning rate: 0.27\n"
     ]
    },
    {
     "name": "stderr",
     "output_type": "stream",
     "text": [
      "\r",
      " 65%|██████▌   | 13/20 [01:34<00:51,  7.42s/it]"
     ]
    },
    {
     "name": "stdout",
     "output_type": "stream",
     "text": [
      "\n",
      "Epoch 12 Loss : 0.32592276 Accuracy : 0.91 Learning rate: 0.25\n"
     ]
    },
    {
     "name": "stderr",
     "output_type": "stream",
     "text": [
      "\r",
      " 70%|███████   | 14/20 [01:42<00:44,  7.40s/it]"
     ]
    },
    {
     "name": "stdout",
     "output_type": "stream",
     "text": [
      "\n",
      "Epoch 13 Loss : 0.32290986 Accuracy : 0.912 Learning rate: 0.23\n"
     ]
    },
    {
     "name": "stderr",
     "output_type": "stream",
     "text": [
      "\r",
      " 75%|███████▌  | 15/20 [01:49<00:36,  7.30s/it]"
     ]
    },
    {
     "name": "stdout",
     "output_type": "stream",
     "text": [
      "\n",
      "Epoch 14 Loss : 0.33157852 Accuracy : 0.916 Learning rate: 0.21\n"
     ]
    },
    {
     "name": "stderr",
     "output_type": "stream",
     "text": [
      "\r",
      " 80%|████████  | 16/20 [01:56<00:28,  7.24s/it]"
     ]
    },
    {
     "name": "stdout",
     "output_type": "stream",
     "text": [
      "\n",
      "Epoch 15 Loss : 0.3112013 Accuracy : 0.917 Learning rate: 0.18\n"
     ]
    },
    {
     "name": "stderr",
     "output_type": "stream",
     "text": [
      "\r",
      " 85%|████████▌ | 17/20 [02:03<00:21,  7.31s/it]"
     ]
    },
    {
     "name": "stdout",
     "output_type": "stream",
     "text": [
      "\n",
      "Epoch 16 Loss : 0.31881425 Accuracy : 0.914 Learning rate: 0.16\n"
     ]
    },
    {
     "name": "stderr",
     "output_type": "stream",
     "text": [
      "\r",
      " 90%|█████████ | 18/20 [02:10<00:14,  7.17s/it]"
     ]
    },
    {
     "name": "stdout",
     "output_type": "stream",
     "text": [
      "\n",
      "Epoch 17 Loss : 0.31978375 Accuracy : 0.918 Learning rate: 0.14\n"
     ]
    },
    {
     "name": "stderr",
     "output_type": "stream",
     "text": [
      "\r",
      " 95%|█████████▌| 19/20 [02:17<00:07,  7.11s/it]"
     ]
    },
    {
     "name": "stdout",
     "output_type": "stream",
     "text": [
      "\n",
      "Epoch 18 Loss : 0.30804884 Accuracy : 0.913 Learning rate: 0.12\n"
     ]
    },
    {
     "name": "stderr",
     "output_type": "stream",
     "text": [
      "\r",
      "100%|██████████| 20/20 [02:24<00:00,  7.06s/it]"
     ]
    },
    {
     "name": "stdout",
     "output_type": "stream",
     "text": [
      "\n",
      "Epoch 19 Loss : 0.317507 Accuracy : 0.915 Learning rate: 0.1\n",
      "\n",
      "Accuracy on test set: 0.9151\n",
      "\n",
      "Errors (%): 8.49 %\n"
     ]
    },
    {
     "name": "stderr",
     "output_type": "stream",
     "text": [
      "\n"
     ]
    }
   ],
   "source": [
    "# Training\n",
    "with tf.Session() as sess:\n",
    "    saver = tf.train.Saver()\n",
    "    sess.run(tf.global_variables_initializer())\n",
    "\n",
    "    try:\n",
    "        saver.restore(sess, 'mnist_predictions.ckpt')\n",
    "    except Exception:\n",
    "        pass\n",
    "\n",
    "    # train the model mini batch with 100 elements, for 1K times\n",
    "    for epoch in tqdm(range(nb_epoch)):\n",
    "\n",
    "        for i in range(batch_size):\n",
    "            # Update learning rate\n",
    "            l_rate = sess.run(learning_rate_pc, {global_step: j})\n",
    "            j += 1\n",
    "\n",
    "            batch_index = get_batch_idx(i, batch_size, nb_images)\n",
    "            batch_x, batch_y = (train_img_new[batch_index, :],\n",
    "                                train_labels[batch_index])\n",
    "            sess.run([learning_step_pc], feed_dict={X: batch_x, Y: batch_y,\n",
    "                                                    keep_prob_1: prob_1,\n",
    "                                                    keep_prob_2: prob_2})\n",
    "\n",
    "        # Accuracy and cross entropy - Training phase\n",
    "        loss, acc = sess.run([cross_entropy, accuracy],\n",
    "                             feed_dict={X: valid_img_new, Y: valid_labels,\n",
    "                                        keep_prob_1: 1.0,\n",
    "                                        keep_prob_2: 1.0})\n",
    "        loss_train.append(loss)\n",
    "        acc_train.append(acc)\n",
    "        learn_rate.append(l_rate)\n",
    "        print(\"\\nEpoch\", str(epoch), \"Loss :\", str(loss),\n",
    "              \"Accuracy :\", str(acc), \"Learning rate:\", l_rate)\n",
    "\n",
    "    # Test\n",
    "    # evaluate the accuracy of the model\n",
    "    test_accuracy = sess.run(accuracy, feed_dict={X: test_img_new,\n",
    "                                                  Y: test_labels,\n",
    "                                                  keep_prob_1: 1.0,\n",
    "                                                  keep_prob_2: 1.0})\n",
    "    print(\"\\nAccuracy on test set:\", test_accuracy)\n",
    "\n",
    "    # pred\n",
    "    pred = sess.run(p, feed_dict={X: test_img_new, Y: test_labels,\n",
    "                                  keep_prob_1: 1.0, keep_prob_2: 1.0})\n",
    "    pred = np.array([np.argmax(pred[y]) for y in range(len(pred))])\n",
    "    labels = np.array([np.argmax(test_labels[y])\n",
    "                       for y in range(len(test_labels))])\n",
    "\n",
    "    print(\"\\nErrors (%):\", np.sum(labels != pred)/len(pred)*100, '%')\n",
    "\n",
    "    # Save the model\n",
    "    '''if input('Save model ? [Y/N]') == 'Y':\n",
    "        import os\n",
    "        saver.save(sess, os.getcwd() +\n",
    "                   '/nn_saved_sessions/mnist_predictions.ckpt')\n",
    "        print('Model Saved')'''\n",
    "\n",
    "    # Close the session\n",
    "    sess.close()"
   ]
  },
  {
   "cell_type": "markdown",
   "metadata": {},
   "source": [
    "### Visualisation"
   ]
  },
  {
   "cell_type": "markdown",
   "metadata": {},
   "source": [
    "#### Accuracy"
   ]
  },
  {
   "cell_type": "code",
   "execution_count": 18,
   "metadata": {},
   "outputs": [
    {
     "data": {
      "image/png": "[encoded data removed]",
      "text/plain": [
       "<Figure size 720x432 with 1 Axes>"
      ]
     },
     "metadata": {
      "needs_background": "light"
     },
     "output_type": "display_data"
    }
   ],
   "source": [
    "# Visualisation of the accuracy\n",
    "plt.figure(figsize=(10, 6))\n",
    "plt.plot(np.arange(nb_epoch), acc_train, label='accuracy', color='blue')\n",
    "plt.title('Training phase')\n",
    "plt.ylabel('accuracy - training phase')\n",
    "plt.xlabel('epochs')\n",
    "plt.legend(loc='best')\n",
    "plt.show()"
   ]
  },
  {
   "cell_type": "markdown",
   "metadata": {},
   "source": [
    "#### Loss"
   ]
  },
  {
   "cell_type": "code",
   "execution_count": 19,
   "metadata": {},
   "outputs": [
    {
     "data": {
      "image/png": "[encoded data removed]",
      "text/plain": [
       "<Figure size 720x432 with 1 Axes>"
      ]
     },
     "metadata": {
      "needs_background": "light"
     },
     "output_type": "display_data"
    }
   ],
   "source": [
    "# Visualisation of the loss\n",
    "plt.figure(figsize=(10, 6))\n",
    "plt.plot(np.arange(nb_epoch), loss_train, label='loss', color='red')\n",
    "plt.title('Training phase')\n",
    "plt.ylabel('loss - training phase')\n",
    "plt.xlabel('epochs')\n",
    "plt.legend(loc='best')\n",
    "plt.show()"
   ]
  },
  {
   "cell_type": "markdown",
   "metadata": {},
   "source": [
    "#### Learning rate"
   ]
  },
  {
   "cell_type": "code",
   "execution_count": 20,
   "metadata": {},
   "outputs": [
    {
     "data": {
      "image/png": "[encoded data removed]",
      "text/plain": [
       "<Figure size 720x432 with 1 Axes>"
      ]
     },
     "metadata": {
      "needs_background": "light"
     },
     "output_type": "display_data"
    }
   ],
   "source": [
    "# Visualisation of the learning rate\n",
    "plt.figure(figsize=(10, 6))\n",
    "plt.plot(np.arange(nb_epoch), learn_rate, label='learning_rate', color='green')\n",
    "plt.title('Training phase')\n",
    "plt.ylabel('learning rate - training phase')\n",
    "plt.xlabel('epochs')\n",
    "plt.legend(loc='best')\n",
    "plt.show()"
   ]
  },
  {
   "cell_type": "markdown",
   "metadata": {},
   "source": [
    "### Observations"
   ]
  },
  {
   "cell_type": "code",
   "execution_count": null,
   "metadata": {},
   "outputs": [],
   "source": []
  },
  {
   "cell_type": "markdown",
   "metadata": {},
   "source": [
    "### We will now use a exponential decay for the learning rate"
   ]
  },
  {
   "cell_type": "code",
   "execution_count": 21,
   "metadata": {},
   "outputs": [],
   "source": [
    "acc_train = []\n",
    "loss_train = []\n",
    "learn_rate = []"
   ]
  },
  {
   "cell_type": "code",
   "execution_count": 22,
   "metadata": {},
   "outputs": [],
   "source": [
    "# Exponential decay of the learning rate\n",
    "global_step = tf.Variable(0, trainable=False)\n",
    "starter_learning_rate = 0.7\n",
    "learning_rate_ed = tf.train.exponential_decay(starter_learning_rate,\n",
    "                                              global_step, batch_size, 0.69,\n",
    "                                              staircase=True)\n",
    "j = 0\n",
    "# Passing global_step to minimize() will increment it at each step.\n",
    "learning_step_ed = tf.train.GradientDescentOptimizer(learning_rate_ed).minimize(cross_entropy,\n",
    "                                                   global_step=global_step)"
   ]
  },
  {
   "cell_type": "code",
   "execution_count": 23,
   "metadata": {},
   "outputs": [
    {
     "name": "stderr",
     "output_type": "stream",
     "text": [
      "  5%|▌         | 1/20 [00:06<02:05,  6.60s/it]"
     ]
    },
    {
     "name": "stdout",
     "output_type": "stream",
     "text": [
      "\n",
      "Epoch 0 Loss : 0.7374666 Accuracy : 0.778 Learning rate: 0.7\n"
     ]
    },
    {
     "name": "stderr",
     "output_type": "stream",
     "text": [
      "\r",
      " 10%|█         | 2/20 [00:13<01:58,  6.58s/it]"
     ]
    },
    {
     "name": "stdout",
     "output_type": "stream",
     "text": [
      "\n",
      "Epoch 1 Loss : 0.6086961 Accuracy : 0.814 Learning rate: 0.48299998\n"
     ]
    },
    {
     "name": "stderr",
     "output_type": "stream",
     "text": [
      "\r",
      " 15%|█▌        | 3/20 [00:19<01:52,  6.60s/it]"
     ]
    },
    {
     "name": "stdout",
     "output_type": "stream",
     "text": [
      "\n",
      "Epoch 2 Loss : 0.5475828 Accuracy : 0.844 Learning rate: 0.33326998\n"
     ]
    },
    {
     "name": "stderr",
     "output_type": "stream",
     "text": [
      "\r",
      " 20%|██        | 4/20 [00:26<01:46,  6.68s/it]"
     ]
    },
    {
     "name": "stdout",
     "output_type": "stream",
     "text": [
      "\n",
      "Epoch 3 Loss : 0.51295906 Accuracy : 0.854 Learning rate: 0.2299563\n"
     ]
    },
    {
     "name": "stderr",
     "output_type": "stream",
     "text": [
      "\r",
      " 25%|██▌       | 5/20 [00:33<01:42,  6.84s/it]"
     ]
    },
    {
     "name": "stdout",
     "output_type": "stream",
     "text": [
      "\n",
      "Epoch 4 Loss : 0.49832633 Accuracy : 0.854 Learning rate: 0.15866984\n"
     ]
    },
    {
     "name": "stderr",
     "output_type": "stream",
     "text": [
      "\r",
      " 30%|███       | 6/20 [00:40<01:36,  6.87s/it]"
     ]
    },
    {
     "name": "stdout",
     "output_type": "stream",
     "text": [
      "\n",
      "Epoch 5 Loss : 0.48886535 Accuracy : 0.858 Learning rate: 0.1094822\n"
     ]
    },
    {
     "name": "stderr",
     "output_type": "stream",
     "text": [
      "\r",
      " 35%|███▌      | 7/20 [00:47<01:29,  6.86s/it]"
     ]
    },
    {
     "name": "stdout",
     "output_type": "stream",
     "text": [
      "\n",
      "Epoch 6 Loss : 0.47595295 Accuracy : 0.861 Learning rate: 0.07554271\n"
     ]
    },
    {
     "name": "stderr",
     "output_type": "stream",
     "text": [
      "\r",
      " 40%|████      | 8/20 [00:54<01:21,  6.75s/it]"
     ]
    },
    {
     "name": "stdout",
     "output_type": "stream",
     "text": [
      "\n",
      "Epoch 7 Loss : 0.47597262 Accuracy : 0.871 Learning rate: 0.05212447\n"
     ]
    },
    {
     "name": "stderr",
     "output_type": "stream",
     "text": [
      "\r",
      " 45%|████▌     | 9/20 [01:00<01:13,  6.68s/it]"
     ]
    },
    {
     "name": "stdout",
     "output_type": "stream",
     "text": [
      "\n",
      "Epoch 8 Loss : 0.46822748 Accuracy : 0.874 Learning rate: 0.035965886\n"
     ]
    },
    {
     "name": "stderr",
     "output_type": "stream",
     "text": [
      "\r",
      " 50%|█████     | 10/20 [01:07<01:06,  6.62s/it]"
     ]
    },
    {
     "name": "stdout",
     "output_type": "stream",
     "text": [
      "\n",
      "Epoch 9 Loss : 0.4657203 Accuracy : 0.873 Learning rate: 0.02481646\n"
     ]
    },
    {
     "name": "stderr",
     "output_type": "stream",
     "text": [
      "\r",
      " 55%|█████▌    | 11/20 [01:13<00:58,  6.55s/it]"
     ]
    },
    {
     "name": "stdout",
     "output_type": "stream",
     "text": [
      "\n",
      "Epoch 10 Loss : 0.4633687 Accuracy : 0.873 Learning rate: 0.017123358\n"
     ]
    },
    {
     "name": "stderr",
     "output_type": "stream",
     "text": [
      "\r",
      " 60%|██████    | 12/20 [01:19<00:52,  6.52s/it]"
     ]
    },
    {
     "name": "stdout",
     "output_type": "stream",
     "text": [
      "\n",
      "Epoch 11 Loss : 0.4623707 Accuracy : 0.873 Learning rate: 0.011815117\n"
     ]
    },
    {
     "name": "stderr",
     "output_type": "stream",
     "text": [
      "\r",
      " 65%|██████▌   | 13/20 [01:27<00:46,  6.71s/it]"
     ]
    },
    {
     "name": "stdout",
     "output_type": "stream",
     "text": [
      "\n",
      "Epoch 12 Loss : 0.46354884 Accuracy : 0.873 Learning rate: 0.008152431\n"
     ]
    },
    {
     "name": "stderr",
     "output_type": "stream",
     "text": [
      "\r",
      " 70%|███████   | 14/20 [01:33<00:40,  6.69s/it]"
     ]
    },
    {
     "name": "stdout",
     "output_type": "stream",
     "text": [
      "\n",
      "Epoch 13 Loss : 0.46338698 Accuracy : 0.873 Learning rate: 0.0056251767\n"
     ]
    },
    {
     "name": "stderr",
     "output_type": "stream",
     "text": [
      "\r",
      " 75%|███████▌  | 15/20 [01:40<00:33,  6.64s/it]"
     ]
    },
    {
     "name": "stdout",
     "output_type": "stream",
     "text": [
      "\n",
      "Epoch 14 Loss : 0.46151775 Accuracy : 0.873 Learning rate: 0.0038813723\n"
     ]
    },
    {
     "name": "stderr",
     "output_type": "stream",
     "text": [
      "\r",
      " 80%|████████  | 16/20 [01:46<00:26,  6.66s/it]"
     ]
    },
    {
     "name": "stdout",
     "output_type": "stream",
     "text": [
      "\n",
      "Epoch 15 Loss : 0.46161816 Accuracy : 0.873 Learning rate: 0.0026781466\n"
     ]
    },
    {
     "name": "stderr",
     "output_type": "stream",
     "text": [
      "\r",
      " 85%|████████▌ | 17/20 [01:53<00:20,  6.70s/it]"
     ]
    },
    {
     "name": "stdout",
     "output_type": "stream",
     "text": [
      "\n",
      "Epoch 16 Loss : 0.46114925 Accuracy : 0.873 Learning rate: 0.0018479213\n"
     ]
    },
    {
     "name": "stderr",
     "output_type": "stream",
     "text": [
      "\r",
      " 90%|█████████ | 18/20 [02:00<00:13,  6.71s/it]"
     ]
    },
    {
     "name": "stdout",
     "output_type": "stream",
     "text": [
      "\n",
      "Epoch 17 Loss : 0.4610171 Accuracy : 0.874 Learning rate: 0.0012750656\n"
     ]
    },
    {
     "name": "stderr",
     "output_type": "stream",
     "text": [
      "\r",
      " 95%|█████████▌| 19/20 [02:07<00:06,  6.67s/it]"
     ]
    },
    {
     "name": "stdout",
     "output_type": "stream",
     "text": [
      "\n",
      "Epoch 18 Loss : 0.4612168 Accuracy : 0.873 Learning rate: 0.0008797953\n"
     ]
    },
    {
     "name": "stderr",
     "output_type": "stream",
     "text": [
      "\r",
      "100%|██████████| 20/20 [02:13<00:00,  6.61s/it]"
     ]
    },
    {
     "name": "stdout",
     "output_type": "stream",
     "text": [
      "\n",
      "Epoch 19 Loss : 0.4608576 Accuracy : 0.874 Learning rate: 0.00060705876\n",
      "\n",
      "Accuracy on test set: 0.8694\n",
      "\n",
      "Errors (%): 13.059999999999999 %\n"
     ]
    },
    {
     "name": "stderr",
     "output_type": "stream",
     "text": [
      "\n"
     ]
    }
   ],
   "source": [
    "# initialize variables and session\n",
    "with tf.Session() as sess:\n",
    "    saver = tf.train.Saver()\n",
    "    sess.run(tf.global_variables_initializer())\n",
    "\n",
    "    try:\n",
    "        saver.restore(sess, 'mnist_predictions.ckpt')\n",
    "    except Exception:\n",
    "        pass\n",
    "\n",
    "    # train the model mini batch with 100 elements, for 1K times\n",
    "    for epoch in tqdm(range(nb_epoch)):\n",
    "\n",
    "        for i in range(batch_size):\n",
    "            # Update learning rate\n",
    "            l_rate = sess.run(learning_rate_ed, {global_step: j})\n",
    "            j += 1\n",
    "\n",
    "            batch_index = get_batch_idx(i, batch_size, nb_images)\n",
    "            batch_x, batch_y = (train_img_new[batch_index, :],\n",
    "                                train_labels[batch_index])\n",
    "            sess.run([learning_step_ed], feed_dict={X: batch_x, Y: batch_y,\n",
    "                                                    keep_prob_1: prob_1,\n",
    "                                                    keep_prob_2: prob_2})\n",
    "\n",
    "        # Accuracy and cross entropy - Training phase\n",
    "        loss, acc = sess.run([cross_entropy, accuracy],\n",
    "                             feed_dict={X: valid_img_new, Y: valid_labels,\n",
    "                                        keep_prob_1: 1.0,\n",
    "                                        keep_prob_2: 1.0})\n",
    "        loss_train.append(loss)\n",
    "        acc_train.append(acc)\n",
    "        learn_rate.append(l_rate)\n",
    "        print(\"\\nEpoch\", str(epoch), \"Loss :\", str(loss),\n",
    "              \"Accuracy :\", str(acc), \"Learning rate:\", l_rate)\n",
    "\n",
    "    # Test\n",
    "    # evaluate the accuracy of the model\n",
    "    test_accuracy = sess.run(accuracy, feed_dict={X: test_img_new,\n",
    "                                                  Y: test_labels,\n",
    "                                                  keep_prob_1: 1.0,\n",
    "                                                  keep_prob_2: 1.0})\n",
    "    print(\"\\nAccuracy on test set:\", test_accuracy)\n",
    "\n",
    "    # pred\n",
    "    pred = sess.run(p, feed_dict={X: test_img_new, Y: test_labels,\n",
    "                                  keep_prob_1: 1.0, keep_prob_2: 1.0})\n",
    "    pred = np.array([np.argmax(pred[y]) for y in range(len(pred))])\n",
    "    labels = np.array([np.argmax(test_labels[y])\n",
    "                       for y in range(len(test_labels))])\n",
    "\n",
    "    print(\"\\nErrors (%):\", np.sum(labels != pred)/len(pred)*100, '%')\n",
    "\n",
    "    # Save the model\n",
    "    '''if input('Save model ? [Y/N]') == 'Y':\n",
    "        import os\n",
    "        saver.save(sess, os.getcwd() +\n",
    "                   '/nn_saved_sessions/mnist_predictions.ckpt')\n",
    "        print('Model Saved')'''\n",
    "\n",
    "    # Close the session\n",
    "    sess.close()"
   ]
  },
  {
   "cell_type": "markdown",
   "metadata": {},
   "source": [
    "### Visualisation"
   ]
  },
  {
   "cell_type": "markdown",
   "metadata": {},
   "source": [
    "#### Accuracy"
   ]
  },
  {
   "cell_type": "code",
   "execution_count": 24,
   "metadata": {},
   "outputs": [
    {
     "data": {
      "image/png": "[encoded data removed]",
      "text/plain": [
       "<Figure size 720x432 with 1 Axes>"
      ]
     },
     "metadata": {
      "needs_background": "light"
     },
     "output_type": "display_data"
    }
   ],
   "source": [
    "# Visualisation of the accuracy\n",
    "plt.figure(figsize=(10, 6))\n",
    "plt.plot(np.arange(nb_epoch), acc_train, label='accuracy', color='blue')\n",
    "plt.title('Training phase')\n",
    "plt.ylabel('accuracy - training phase')\n",
    "plt.xlabel('epochs')\n",
    "plt.legend(loc='best')\n",
    "plt.show()"
   ]
  },
  {
   "cell_type": "markdown",
   "metadata": {},
   "source": [
    "#### Loss"
   ]
  },
  {
   "cell_type": "code",
   "execution_count": 25,
   "metadata": {},
   "outputs": [
    {
     "data": {
      "image/png": "[encoded data removed]",
      "text/plain": [
       "<Figure size 720x432 with 1 Axes>"
      ]
     },
     "metadata": {
      "needs_background": "light"
     },
     "output_type": "display_data"
    }
   ],
   "source": [
    "# Visualisation of the loss\n",
    "plt.figure(figsize=(10, 6))\n",
    "plt.plot(np.arange(nb_epoch), loss_train, label='loss', color='red')\n",
    "plt.title('Training phase')\n",
    "plt.ylabel('loss - training phase')\n",
    "plt.xlabel('epochs')\n",
    "plt.legend(loc='best')\n",
    "plt.show()"
   ]
  },
  {
   "cell_type": "markdown",
   "metadata": {},
   "source": [
    "#### Learning rate"
   ]
  },
  {
   "cell_type": "code",
   "execution_count": 26,
   "metadata": {},
   "outputs": [
    {
     "data": {
      "image/png": "[encoded data removed]",
      "text/plain": [
       "<Figure size 720x432 with 1 Axes>"
      ]
     },
     "metadata": {
      "needs_background": "light"
     },
     "output_type": "display_data"
    }
   ],
   "source": [
    "# Visualisation of the learning rate\n",
    "plt.figure(figsize=(10, 6))\n",
    "plt.plot(np.arange(nb_epoch), learn_rate, label='learning_rate', color='green')\n",
    "plt.title('Training phase')\n",
    "plt.ylabel('learning rate - training phase')\n",
    "plt.xlabel('epochs')\n",
    "plt.legend(loc='best')\n",
    "plt.show()"
   ]
  },
  {
   "cell_type": "markdown",
   "metadata": {},
   "source": [
    "### Observations"
   ]
  },
  {
   "cell_type": "code",
   "execution_count": null,
   "metadata": {},
   "outputs": [],
   "source": []
  },
  {
   "cell_type": "markdown",
   "metadata": {},
   "source": [
    "## IV - Convolutionnal Neural Network"
   ]
  },
  {
   "cell_type": "code",
   "execution_count": 27,
   "metadata": {},
   "outputs": [],
   "source": [
    "# Import the model\n",
    "from NeuralNetwork import CNN_model"
   ]
  },
  {
   "cell_type": "code",
   "execution_count": 28,
   "metadata": {},
   "outputs": [],
   "source": [
    "# Input data\n",
    "nb_images = train_img_new.shape[0]\n",
    "nb_input = train_img_new.shape[1]\n",
    "batch_size = 1000\n",
    "nb_classes = 10\n",
    "learning_rate = 0.005\n",
    "nb_epoch = 10\n",
    "\n",
    "X_train = train_img_new\n",
    "y_train = train_labels\n",
    "X_valid = valid_img_new\n",
    "y_valid = valid_labels\n",
    "X_test = test_img_new\n",
    "y_test = test_labels"
   ]
  },
  {
   "cell_type": "code",
   "execution_count": 29,
   "metadata": {},
   "outputs": [
    {
     "name": "stdout",
     "output_type": "stream",
     "text": [
      "WARNING:tensorflow:From <ipython-input-29-d3bafee0a9cb>:11: softmax_cross_entropy_with_logits (from tensorflow.python.ops.nn_ops) is deprecated and will be removed in a future version.\n",
      "Instructions for updating:\n",
      "\n",
      "Future major versions of TensorFlow will allow gradients to flow\n",
      "into the labels input on backprop by default.\n",
      "\n",
      "See `tf.nn.softmax_cross_entropy_with_logits_v2`.\n",
      "\n"
     ]
    }
   ],
   "source": [
    "# Initialisation\n",
    "X_tf = tf.placeholder(tf.float32, [None, nb_input])\n",
    "y_tf = tf.placeholder(tf.float32, [None, nb_classes])\n",
    "\n",
    "# dynamically reshape the input\n",
    "x_shaped = tf.reshape(X_tf, [-1, 28, 28, 1])\n",
    "\n",
    "output, dense_layer2 = CNN_model(x_shaped)\n",
    "\n",
    "# Cross entropy\n",
    "cross_entropy = tf.reduce_mean(tf.nn.softmax_cross_entropy_with_logits(logits=dense_layer2, labels=y_tf))\n",
    "\n",
    "# add an optimiser\n",
    "optimiser = tf.train.GradientDescentOptimizer(learning_rate=learning_rate).minimize(cross_entropy)\n",
    "\n",
    "# define an accuracy assessment operation\n",
    "correct_prediction = tf.equal(tf.argmax(y_tf, 1), tf.argmax(output, 1))\n",
    "accuracy = tf.reduce_mean(tf.cast(correct_prediction, tf.float32))\n",
    "\n",
    "avg_cost_v = []\n",
    "acc_train = []"
   ]
  },
  {
   "cell_type": "code",
   "execution_count": 31,
   "metadata": {},
   "outputs": [
    {
     "name": "stderr",
     "output_type": "stream",
     "text": [
      " 10%|█         | 1/10 [01:13<10:58, 73.11s/it]"
     ]
    },
    {
     "name": "stdout",
     "output_type": "stream",
     "text": [
      "Epoch: 1 | Cost (train set): 0.03 | Accuracy (train set): 0.607 | Cost (valid set): 1.749 | Accuracy (valid set): 0.654\n"
     ]
    },
    {
     "name": "stderr",
     "output_type": "stream",
     "text": [
      "\r",
      " 20%|██        | 2/10 [02:17<09:23, 70.43s/it]"
     ]
    },
    {
     "name": "stdout",
     "output_type": "stream",
     "text": [
      "Epoch: 2 | Cost (train set): 0.006 | Accuracy (train set): 0.904 | Cost (valid set): 0.306 | Accuracy (valid set): 0.919\n"
     ]
    },
    {
     "name": "stderr",
     "output_type": "stream",
     "text": [
      "\r",
      " 30%|███       | 3/10 [03:25<08:07, 69.62s/it]"
     ]
    },
    {
     "name": "stdout",
     "output_type": "stream",
     "text": [
      "Epoch: 3 | Cost (train set): 0.03 | Accuracy (train set): 0.945 | Cost (valid set): 0.198 | Accuracy (valid set): 0.946\n"
     ]
    },
    {
     "name": "stderr",
     "output_type": "stream",
     "text": [
      "\r",
      " 40%|████      | 4/10 [04:28<06:47, 67.93s/it]"
     ]
    },
    {
     "name": "stdout",
     "output_type": "stream",
     "text": [
      "Epoch: 4 | Cost (train set): 0.005 | Accuracy (train set): 0.966 | Cost (valid set): 0.16 | Accuracy (valid set): 0.952\n"
     ]
    },
    {
     "name": "stderr",
     "output_type": "stream",
     "text": [
      "\r",
      " 50%|█████     | 5/10 [05:27<05:24, 64.99s/it]"
     ]
    },
    {
     "name": "stdout",
     "output_type": "stream",
     "text": [
      "Epoch: 5 | Cost (train set): 0.003 | Accuracy (train set): 0.963 | Cost (valid set): 0.141 | Accuracy (valid set): 0.959\n"
     ]
    },
    {
     "name": "stderr",
     "output_type": "stream",
     "text": [
      "\r",
      " 60%|██████    | 6/10 [06:29<04:16, 64.23s/it]"
     ]
    },
    {
     "name": "stdout",
     "output_type": "stream",
     "text": [
      "Epoch: 6 | Cost (train set): 0.002 | Accuracy (train set): 0.978 | Cost (valid set): 0.128 | Accuracy (valid set): 0.97\n"
     ]
    },
    {
     "name": "stderr",
     "output_type": "stream",
     "text": [
      "\r",
      " 70%|███████   | 7/10 [07:46<03:24, 68.18s/it]"
     ]
    },
    {
     "name": "stdout",
     "output_type": "stream",
     "text": [
      "Epoch: 7 | Cost (train set): 0.002 | Accuracy (train set): 0.973 | Cost (valid set): 0.12 | Accuracy (valid set): 0.969\n"
     ]
    },
    {
     "name": "stderr",
     "output_type": "stream",
     "text": [
      "\r",
      " 80%|████████  | 8/10 [09:02<02:20, 70.33s/it]"
     ]
    },
    {
     "name": "stdout",
     "output_type": "stream",
     "text": [
      "Epoch: 8 | Cost (train set): 0.001 | Accuracy (train set): 0.977 | Cost (valid set): 0.116 | Accuracy (valid set): 0.969\n"
     ]
    },
    {
     "name": "stderr",
     "output_type": "stream",
     "text": [
      "\r",
      " 90%|█████████ | 9/10 [10:09<01:09, 69.34s/it]"
     ]
    },
    {
     "name": "stdout",
     "output_type": "stream",
     "text": [
      "Epoch: 9 | Cost (train set): 0.001 | Accuracy (train set): 0.974 | Cost (valid set): 0.111 | Accuracy (valid set): 0.969\n"
     ]
    },
    {
     "name": "stderr",
     "output_type": "stream",
     "text": [
      "\r",
      "100%|██████████| 10/10 [11:18<00:00, 69.35s/it]"
     ]
    },
    {
     "name": "stdout",
     "output_type": "stream",
     "text": [
      "Epoch: 10 | Cost (train set): 0.001 | Accuracy (train set): 0.98 | Cost (valid set): 0.103 | Accuracy (valid set): 0.974\n",
      "\n",
      "Training complete!\n"
     ]
    },
    {
     "name": "stderr",
     "output_type": "stream",
     "text": [
      "\n"
     ]
    },
    {
     "name": "stdout",
     "output_type": "stream",
     "text": [
      "\n",
      "Accuracy on the test set: 0.9761\n"
     ]
    }
   ],
   "source": [
    "with tf.Session() as sess:\n",
    "    # initialise the variables\n",
    "    saver = tf.train.Saver()\n",
    "    sess.run(tf.global_variables_initializer())\n",
    "\n",
    "    # Create the batches\n",
    "    total_batch = int(X_train.shape[0]/batch_size)\n",
    "\n",
    "    for epoch in tqdm(range(nb_epoch)):\n",
    "\n",
    "        # Random permutation\n",
    "        idx_shuffle = np.random.permutation(np.arange(X_train.shape[0]))\n",
    "        X_train = X_train[idx_shuffle, :]\n",
    "        y_train = y_train[idx_shuffle]\n",
    "\n",
    "        for i in range(total_batch):\n",
    "            avg_cost = 0.\n",
    "\n",
    "            # Batch definition\n",
    "            batch_X = X_train[i*batch_size:(i+1)*batch_size]\n",
    "            batch_y = y_train[i*batch_size:(i+1)*batch_size]\n",
    "\n",
    "            # Train process\n",
    "            _, c, acc = sess.run([optimiser, cross_entropy, accuracy],\n",
    "                                 feed_dict={X_tf: batch_X, y_tf: batch_y})\n",
    "            avg_cost += c / total_batch\n",
    "\n",
    "        # Train set\n",
    "        avg_cost_v.append(avg_cost)\n",
    "        acc_train.append(acc)\n",
    "        \n",
    "        # Validation set\n",
    "        pred, acc_valid, cost_valid = sess.run([output, accuracy,\n",
    "                                                cross_entropy],\n",
    "                                               feed_dict={X_tf: X_valid,\n",
    "                                                          y_tf: y_valid})\n",
    "        print(\"Epoch:\", (epoch + 1), \"| Cost (train set):\",\n",
    "              np.round(avg_cost_v[epoch], 3), \"| Accuracy (train set):\", acc,\n",
    "              \"| Cost (valid set):\", np.round(cost_valid, 3),\n",
    "              \"| Accuracy (valid set):\", acc_valid)\n",
    "\n",
    "    print(\"\\nTraining complete!\")\n",
    "    # Test set\n",
    "    acc_test = sess.run(accuracy, feed_dict={X_tf: X_test, y_tf: y_test})\n",
    "    print('\\nAccuracy on the test set:', acc_test)\n",
    "\n",
    "    # Close the session\n",
    "    sess.close()"
   ]
  },
  {
   "cell_type": "markdown",
   "metadata": {},
   "source": [
    "### Visualisation"
   ]
  },
  {
   "cell_type": "markdown",
   "metadata": {},
   "source": [
    "#### Accuracy"
   ]
  },
  {
   "cell_type": "code",
   "execution_count": 33,
   "metadata": {},
   "outputs": [
    {
     "data": {
      "image/png": "[encoded data removed]",
      "text/plain": [
       "<Figure size 720x432 with 1 Axes>"
      ]
     },
     "metadata": {
      "needs_background": "light"
     },
     "output_type": "display_data"
    }
   ],
   "source": [
    "# Visualisation of the accuracy\n",
    "plt.figure(figsize=(10, 6))\n",
    "plt.plot(acc_train, label='accuracy', color='blue')\n",
    "plt.title('Training phase')\n",
    "plt.ylabel('accuracy - training phase')\n",
    "plt.xlabel('epochs')\n",
    "plt.legend(loc='best')\n",
    "plt.show()"
   ]
  },
  {
   "cell_type": "markdown",
   "metadata": {},
   "source": [
    "#### Loss"
   ]
  },
  {
   "cell_type": "code",
   "execution_count": 34,
   "metadata": {},
   "outputs": [
    {
     "data": {
      "image/png": "[encoded data removed]",
      "text/plain": [
       "<Figure size 720x432 with 1 Axes>"
      ]
     },
     "metadata": {
      "needs_background": "light"
     },
     "output_type": "display_data"
    }
   ],
   "source": [
    "# Visualisation of the loss\n",
    "plt.figure(figsize=(10, 6))\n",
    "plt.plot(avg_cost_v, label='loss', color='red')\n",
    "plt.title('Training phase')\n",
    "plt.ylabel('loss - training phase')\n",
    "plt.xlabel('epochs')\n",
    "plt.legend(loc='best')\n",
    "plt.show()"
   ]
  },
  {
   "cell_type": "code",
   "execution_count": null,
   "metadata": {},
   "outputs": [],
   "source": []
  }
 ],
 "metadata": {
  "kernelspec": {
   "display_name": "Python 3",
   "language": "python",
   "name": "python3"
  },
  "language_info": {
   "codemirror_mode": {
    "name": "ipython",
    "version": 3
   },
   "file_extension": ".py",
   "mimetype": "text/x-python",
   "name": "python",
   "nbconvert_exporter": "python",
   "pygments_lexer": "ipython3",
   "version": "3.6.6"
  }
 },
 "nbformat": 4,
 "nbformat_minor": 2
}
